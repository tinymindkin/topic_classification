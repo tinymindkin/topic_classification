{
 "cells": [
  {
   "cell_type": "code",
   "execution_count": 11,
   "metadata": {},
   "outputs": [],
   "source": [
    "import os\n",
    "with open('停用词.txt', 'r', encoding='utf-8') as f:\n",
    "    file = f.read()\n",
    "\n",
    "# file = file.replace(', ', '\\n')\n",
    "# file = file.replace('\\\"', '\\n')\n",
    "file = file.replace(\"'\", '')\n",
    "file = file.replace('\\n\\n', '\\n')\n",
    "with open('停用词.txt', 'w', encoding='utf-8') as f:\n",
    "        f.write(file)\n",
    "\n",
    "\n"
   ]
  }
 ],
 "metadata": {
  "kernelspec": {
   "display_name": "clip-caption",
   "language": "python",
   "name": "python3"
  },
  "language_info": {
   "codemirror_mode": {
    "name": "ipython",
    "version": 3
   },
   "file_extension": ".py",
   "mimetype": "text/x-python",
   "name": "python",
   "nbconvert_exporter": "python",
   "pygments_lexer": "ipython3",
   "version": "3.9.20"
  }
 },
 "nbformat": 4,
 "nbformat_minor": 2
}
